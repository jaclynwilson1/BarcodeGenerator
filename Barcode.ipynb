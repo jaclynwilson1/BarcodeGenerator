{
 "cells": [
  {
   "cell_type": "code",
   "execution_count": 1,
   "id": "c6bdfc49",
   "metadata": {},
   "outputs": [
    {
     "name": "stdout",
     "output_type": "stream",
     "text": [
      "Collecting python-barcode\n",
      "  Downloading python_barcode-0.13.1-py3-none-any.whl (217 kB)\n",
      "\u001b[K     |████████████████████████████████| 217 kB 1.9 MB/s eta 0:00:01\n",
      "\u001b[?25hInstalling collected packages: python-barcode\n",
      "Successfully installed python-barcode-0.13.1\n",
      "Note: you may need to restart the kernel to use updated packages.\n"
     ]
    }
   ],
   "source": [
    "pip install python-barcode "
   ]
  },
  {
   "cell_type": "code",
   "execution_count": 2,
   "id": "f3070208",
   "metadata": {},
   "outputs": [
    {
     "name": "stdout",
     "output_type": "stream",
     "text": [
      "Requirement already satisfied: pillow in /Users/jaclyn/opt/anaconda3/lib/python3.8/site-packages (8.2.0)\n",
      "Note: you may need to restart the kernel to use updated packages.\n"
     ]
    }
   ],
   "source": [
    "pip install pillow"
   ]
  },
  {
   "cell_type": "code",
   "execution_count": 3,
   "id": "df3702b0",
   "metadata": {},
   "outputs": [
    {
     "data": {
      "text/plain": [
       "'new_code.svg'"
      ]
     },
     "execution_count": 3,
     "metadata": {},
     "output_type": "execute_result"
    }
   ],
   "source": [
    "from barcode import EAN13\n",
    "from barcode import EAN13\n",
    "from barcode.writer import ImageWriter\n",
    "  \n"
   ]
  },
  {
   "cell_type": "code",
   "execution_count": 19,
   "id": "42057590",
   "metadata": {},
   "outputs": [],
   "source": [
    "def svg_barcode(number):\n",
    "    my_code = EAN13(number)\n",
    "    return my_code\n",
    "\n",
    "def png_barcode(number):\n",
    "    my_code = EAN13(number, writer=ImageWriter())"
   ]
  },
  {
   "cell_type": "code",
   "execution_count": 4,
   "id": "2eca1b7c",
   "metadata": {},
   "outputs": [
    {
     "data": {
      "text/plain": [
       "'new_code1.png'"
      ]
     },
     "execution_count": 4,
     "metadata": {},
     "output_type": "execute_result"
    }
   ],
   "source": [
    "\n",
    "  \n",
    "##below code is to save it to the file\n",
    "my_code.save(\"new_code1\")"
   ]
  },
  {
   "cell_type": "code",
   "execution_count": 14,
   "id": "0a03f318",
   "metadata": {},
   "outputs": [],
   "source": [
    "barcodes_assigned = []"
   ]
  },
  {
   "cell_type": "code",
   "execution_count": 16,
   "id": "56c0f92f",
   "metadata": {},
   "outputs": [],
   "source": [
    "def random_num():\n",
    "    num = \"%0.12d\" % random.randint(0,999999999999)#generates string with random 12 numbers\n",
    "    if num not in barcodes_assigned:\n",
    "        barcodes_assigned.append(num)\n",
    "        return num\n",
    "    else:\n",
    "        random_num()"
   ]
  },
  {
   "cell_type": "code",
   "execution_count": 17,
   "id": "4ac9a39d",
   "metadata": {},
   "outputs": [
    {
     "data": {
      "text/plain": [
       "'476856258862'"
      ]
     },
     "execution_count": 17,
     "metadata": {},
     "output_type": "execute_result"
    }
   ],
   "source": [
    "random_num()"
   ]
  },
  {
   "cell_type": "code",
   "execution_count": 18,
   "id": "3c400538",
   "metadata": {},
   "outputs": [
    {
     "data": {
      "text/plain": [
       "['476856258862']"
      ]
     },
     "execution_count": 18,
     "metadata": {},
     "output_type": "execute_result"
    }
   ],
   "source": [
    "barcodes_assigned"
   ]
  },
  {
   "cell_type": "code",
   "execution_count": null,
   "id": "be070774",
   "metadata": {},
   "outputs": [],
   "source": []
  }
 ],
 "metadata": {
  "kernelspec": {
   "display_name": "Python 3",
   "language": "python",
   "name": "python3"
  },
  "language_info": {
   "codemirror_mode": {
    "name": "ipython",
    "version": 3
   },
   "file_extension": ".py",
   "mimetype": "text/x-python",
   "name": "python",
   "nbconvert_exporter": "python",
   "pygments_lexer": "ipython3",
   "version": "3.8.8"
  }
 },
 "nbformat": 4,
 "nbformat_minor": 5
}
